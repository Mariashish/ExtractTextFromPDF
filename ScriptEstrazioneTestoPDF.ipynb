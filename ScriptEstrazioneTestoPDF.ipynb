{
 "cells": [
  {
   "cell_type": "code",
   "execution_count": 4,
   "id": "9789a3fb-d726-4767-96ac-d283b54de39f",
   "metadata": {},
   "outputs": [
    {
     "name": "stdout",
     "output_type": "stream",
     "text": [
      "Il testo è stato salvato in: testo_estratto2.txt\n"
     ]
    }
   ],
   "source": [
    "import fitz  # Si importa così ma la libreria è PyMuPDF\n",
    "\n",
    "def extract_text_from_pdf(pdf_path):\n",
    "    text = \"\"\n",
    "    try:\n",
    "        # Apre il PDF\n",
    "        with fitz.open(pdf_path) as pdf_file:\n",
    "            # Itera su ogni pagina del PDF\n",
    "            for page_num in range(len(pdf_file)):\n",
    "                page = pdf_file[page_num]\n",
    "                # Estrae il testo dalla pagina corrente\n",
    "                text += page.get_text()\n",
    "    except Exception as e:\n",
    "        print(\"Errore durante l'estrazione del testo:\", str(e))\n",
    "    return text\n",
    "\n",
    "def save_text_to_file(text, output_file):\n",
    "    try:\n",
    "        # Apre il file in modalità scrittura\n",
    "        with open(output_file, \"w\", encoding=\"utf-8\") as file:\n",
    "            # Scrive il testo nel file\n",
    "            file.write(text)\n",
    "        print(\"Il testo è stato salvato in:\", output_file)\n",
    "    except Exception as e:\n",
    "        print(\"Errore durante il salvataggio del testo:\", str(e))\n",
    "\n",
    "# Percorso del PDF\n",
    "pdf_path = \"RiassuntoCaratteristicheProdotto.pdf\"\n",
    "# Nome del file di output\n",
    "output_file = \"testo_estratto.txt\"\n",
    "\n",
    "# Estrai il testo dal PDF\n",
    "testo_estratto = extract_text_from_pdf(pdf_path)\n",
    "\n",
    "# Salva il testo in un file di testo\n",
    "save_text_to_file(testo_estratto, output_file)\n"
   ]
  },
  {
   "cell_type": "code",
   "execution_count": null,
   "id": "e58ad722-48b7-4e9e-ac54-4696dd29c680",
   "metadata": {},
   "outputs": [],
   "source": []
  }
 ],
 "metadata": {
  "kernelspec": {
   "display_name": "Python 3 (ipykernel)",
   "language": "python",
   "name": "python3"
  },
  "language_info": {
   "codemirror_mode": {
    "name": "ipython",
    "version": 3
   },
   "file_extension": ".py",
   "mimetype": "text/x-python",
   "name": "python",
   "nbconvert_exporter": "python",
   "pygments_lexer": "ipython3",
   "version": "3.11.7"
  }
 },
 "nbformat": 4,
 "nbformat_minor": 5
}
